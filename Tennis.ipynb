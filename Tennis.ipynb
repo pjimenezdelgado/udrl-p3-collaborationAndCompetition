{
 "cells": [
  {
   "cell_type": "markdown",
   "metadata": {},
   "source": [
    "\n",
    "\n",
    "# Project  3 - Collaboration and competition from the Deep Reinforcement Learning Nanodegree of Udacity\n",
    "\n",
    "The task is to train two agents to control rackets to bounce a ball over a net. If an agent hits the ball over the net, it receives a reward of +0.1. If an agent lets a ball hit the ground or hits the ball out of bounds, it receives a reward of -0.01. Thus, the goal of each agent is to keep the ball in play. The task is continuous, although the episodes end after a certain time or when an agent fails. \n",
    "\n",
    "The observation space consists of 8 variables corresponding to the position and velocity of the ball and racket. Each agent receives its own, local observation. Two continuous actions are available, corresponding to movement toward (or away from) the net, and jumping. \n",
    "\n",
    "In order to solve the environment, the agents must get an average score of +0.5 (over 100 consecutive episodes, after taking the maximum over both agents). More explicitly, after each episode, the rewards that each agent received (without discounting) are added up to get a score for each agent. This yields 2 (potentially different) scores; the maximum of these 2 scores is taken as the (single) score for each episode.\n",
    "\n",
    "\n",
    "## 1. Start the Environment\n",
    "\n",
    "We begin by importing some necessary packages and starting the Unity environment provided by Udacity. Environments contain *_brains_*, which are responsible for deciding the actions of their associated agents. Here we check for the first brain available, and set it as the default brain."
   ]
  },
  {
   "cell_type": "code",
   "execution_count": 1,
   "metadata": {},
   "outputs": [
    {
     "name": "stderr",
     "output_type": "stream",
     "text": [
      "INFO:unityagents:\n",
      "'Academy' started successfully!\n",
      "Unity Academy name: Academy\n",
      "        Number of Brains: 1\n",
      "        Number of External Brains : 1\n",
      "        Lesson number : 0\n",
      "        Reset Parameters :\n",
      "\t\t\n",
      "Unity brain name: TennisBrain\n",
      "        Number of Visual Observations (per agent): 0\n",
      "        Vector Observation space type: continuous\n",
      "        Vector Observation space size (per agent): 8\n",
      "        Number of stacked Vector Observation: 3\n",
      "        Vector Action space type: continuous\n",
      "        Vector Action space size (per agent): 2\n",
      "        Vector Action descriptions: , \n"
     ]
    }
   ],
   "source": [
    "from unityagents import UnityEnvironment\n",
    "import numpy as np\n",
    "from collections import deque\n",
    "import matplotlib.pyplot as plt\n",
    "%matplotlib inline\n",
    "\n",
    "from ddpg_agent import Agent\n",
    "import torch\n",
    "\n",
    "env = UnityEnvironment(file_name=\"/home/pedro/codes/p3_collab-compet/Tennis_Linux/Tennis.x86_64\")\n",
    "\n",
    "brain_name = env.brain_names[0]\n",
    "brain = env.brains[brain_name]\n"
   ]
  },
  {
   "cell_type": "markdown",
   "metadata": {},
   "source": [
    "## 2. Training\n",
    "\n",
    "Here we train the agent using the action/reward feedback loop characteristic of reinforcement learning. Details on the agent and its underlying model are to be found in the accompanying files, and are discussed in the report."
   ]
  },
  {
   "cell_type": "code",
   "execution_count": 2,
   "metadata": {},
   "outputs": [
    {
     "name": "stdout",
     "output_type": "stream",
     "text": [
      "Episode 100\tScore 0.00\tAverage Score 0.01\n",
      "Episode 200\tScore 0.00\tAverage Score 0.01\n",
      "Episode 300\tScore 0.00\tAverage Score 0.03\n",
      "Episode 400\tScore 0.00\tAverage Score 0.00\n",
      "Episode 500\tScore 0.00\tAverage Score 0.00\n",
      "Episode 600\tScore 0.00\tAverage Score 0.00\n",
      "Episode 700\tScore 0.00\tAverage Score 0.01\n",
      "Episode 800\tScore 0.09\tAverage Score 0.04\n",
      "Episode 900\tScore 0.10\tAverage Score 0.09\n",
      "Episode 1000\tScore 0.10\tAverage Score 0.10\n",
      "Episode 1100\tScore 0.30\tAverage Score 0.12\n",
      "Episode 1200\tScore 0.10\tAverage Score 0.17\n",
      "Episode 1300\tScore 2.60\tAverage Score 1.03\n",
      "Episode 1400\tScore 2.60\tAverage Score 1.79\n",
      "Episode 1500\tScore 1.80\tAverage Score 0.82\n"
     ]
    },
    {
     "data": {
      "image/png": "[encoded data removed]",
      "text/plain": [
       "<Figure size 432x288 with 1 Axes>"
      ]
     },
     "metadata": {
      "needs_background": "light"
     },
     "output_type": "display_data"
    }
   ],
   "source": [
    "def ddpg(n_episodes=1500):\n",
    "    scores_deque = deque(maxlen=100)\n",
    "    scores_all = []                          \n",
    "    for i_episode in range(1, n_episodes+1):\n",
    "        env_info = env.reset(train_mode=True)[brain_name]\n",
    "        states = env_info.vector_observations\n",
    "        agent0.reset()\n",
    "        agent1.reset()\n",
    "        scores = np.zeros(num_agents)\n",
    "        while True:\n",
    "            action0 = agent0.act(states[0], add_noise=True)    \n",
    "            action1 = agent0.act(states[1], add_noise=True)    \n",
    "            env_info = env.step([action0, action1])[brain_name]\n",
    "            next_states = env_info.vector_observations         \n",
    "            rewards = env_info.rewards                         \n",
    "            dones = env_info.local_done                        \n",
    "            agent0.step(states[0], action0, rewards[0], next_states[0], dones[0])\n",
    "            agent1.step(states[1], action1, rewards[1], next_states[1], dones[1])\n",
    "            states = next_states\n",
    "            scores += rewards\n",
    "            if np.any(dones):\n",
    "                break \n",
    "        scores_deque.append(np.max(scores))\n",
    "        scores_all.append(np.max(scores))\n",
    "        if i_episode % 100 == 0:\n",
    "            print('\\rEpisode {}\\tScore {:.2f}\\tAverage Score {:.2f}'.format(i_episode, np.max(scores), np.mean(scores_deque)))\n",
    "            torch.save(agent0.actor_local.state_dict(), 'checkpoint_actor0.pth')\n",
    "            torch.save(agent0.critic_local.state_dict(), 'checkpoint_critic0.pth')\n",
    "            torch.save(agent1.actor_local.state_dict(), 'checkpoint_actor1.pth')\n",
    "            torch.save(agent1.critic_local.state_dict(), 'checkpoint_critic1.pth')\n",
    "        else:        \n",
    "            print('\\rEpisode {}\\tScore {:.2f}\\tAverage Score {:.2f}'.format(i_episode, np.max(scores), np.mean(scores_deque)), end=\"\")\n",
    "    return scores_all\n",
    "\n",
    "env_info = env.reset(train_mode=True)[brain_name]\n",
    "num_agents = len(env_info.agents)\n",
    "action_size = brain.vector_action_space_size\n",
    "states = env_info.vector_observations\n",
    "state_size = states.shape[1]\n",
    "agent0 = Agent(state_size, action_size)\n",
    "agent1 = Agent(state_size, action_size)\n",
    "scores = ddpg()\n",
    "\n",
    "fig = plt.figure()\n",
    "ax = fig.add_subplot(111)\n",
    "plt.plot(np.arange(1, len(scores)+1), scores)\n",
    "plt.ylabel('Score')\n",
    "plt.xlabel('Episode #')\n",
    "plt.show()"
   ]
  },
  {
   "cell_type": "markdown",
   "metadata": {},
   "source": [
    "### 3. Testing\n",
    "\n",
    "Next we reset the environment and agents, and load saved waits, in order to watch the agents acting in an episode. This section can be skipped if the reader is already familiar with the setup, or it can be used to evaluate the trained agents."
   ]
  },
  {
   "cell_type": "code",
   "execution_count": 4,
   "metadata": {},
   "outputs": [
    {
     "name": "stdout",
     "output_type": "stream",
     "text": [
      "Score (max over agents) from episode: 0.5000000074505806\n"
     ]
    }
   ],
   "source": [
    "env_info = env.reset(train_mode=False)[brain_name]\n",
    "num_agents = len(env_info.agents)\n",
    "action_size = brain.vector_action_space_size\n",
    "states = env_info.vector_observations\n",
    "state_size = states.shape[1]\n",
    "\n",
    "agent0 = Agent(state_size, action_size)\n",
    "agent0.actor_local.load_state_dict(torch.load('checkpoint_actor0.pth'))\n",
    "agent0.critic_local.load_state_dict(torch.load('checkpoint_critic0.pth'))\n",
    "\n",
    "agent1 = Agent(state_size, action_size)\n",
    "agent1.actor_local.load_state_dict(torch.load('checkpoint_actor1.pth'))\n",
    "agent1.critic_local.load_state_dict(torch.load('checkpoint_critic1.pth'))\n",
    "\n",
    "scores = np.zeros(num_agents)                        \n",
    "while True:\n",
    "    action0 = agent0.act(states[0], add_noise=False)    \n",
    "    action1 = agent1.act(states[1], add_noise=False)    \n",
    "    env_info = env.step([action0, action1])[brain_name] \n",
    "    next_states = env_info.vector_observations         \n",
    "    rewards = env_info.rewards                         \n",
    "    dones = env_info.local_done                        \n",
    "    scores += env_info.rewards                         \n",
    "    states = next_states                               \n",
    "    if np.any(dones):                                  \n",
    "        break\n",
    "print('Score (max over agents) from episode: {}'.format(np.max(scores)))"
   ]
  },
  {
   "cell_type": "code",
   "execution_count": 5,
   "metadata": {},
   "outputs": [],
   "source": [
    "env.close()"
   ]
  },
  {
   "cell_type": "markdown",
   "metadata": {},
   "source": [
    "That is all in the notebook, more details in the algorithm and its implementation can be found in the accompanying report and source code."
   ]
  }
 ],
 "metadata": {
  "kernelspec": {
   "display_name": "drlnd",
   "language": "python",
   "name": "drlnd"
  },
  "language_info": {
   "codemirror_mode": {
    "name": "ipython",
    "version": 3
   },
   "file_extension": ".py",
   "mimetype": "text/x-python",
   "name": "python",
   "nbconvert_exporter": "python",
   "pygments_lexer": "ipython3",
   "version": "3.6.9"
  }
 },
 "nbformat": 4,
 "nbformat_minor": 2
}
